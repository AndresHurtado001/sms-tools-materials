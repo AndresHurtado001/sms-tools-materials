{
  "cells": [
    {
      "cell_type": "markdown",
      "metadata": {
        "id": "a_WBfMW84pYN"
      },
      "source": [
        "# Exercise 1: Python and sounds\n",
        "\n",
        "This exercise aims to get familiar with some basic audio operations using Python. There are four parts to it: 1) Reading an audio file, 2) Basic operations with audio, 3) Python array indexing, and 4) Downsampling audio - Changing the sampling rate.\n",
        "\n",
        "### Relevant concepts\n",
        "\n",
        "__sms-tools:__ . Sound analysis/synthesis tools for music applications written in python (with a bit of C). Available at https://github.com/MTG/sms-tools. They can be installed as a python package with `pip install sms-tools`. Materials associated with the tools are in https://github.com/MTG/sms-tools-materials.\n",
        "\n",
        "__Python:__ Python is a powerful and easy to learn programming language, which is used in a wide variety of application areas. More information in https://www.python.org/. We will use python in all the exercises and in this first one you will start learning about it by performing some basic operations with sound files.\n",
        "\n",
        "__Jupyter notebooks:__ Jupiter notebooks are interactive documents containing live code, equations, visualizations and narrative text. More information in https://jupyter.org/. It supports Python and all the exercises here use it.\n",
        "\n",
        "__Wav file:__ The wav file format is a lossless format to store sounds on a hard drive. Each audio sample is stored as a 16 bit integer number (sometimes also as 24 bit integer or 32 bit float). In this course we will work with only one type of audio files. All the sound files we use in the assignments should be wav files that are mono (one channel), in which the samples are stored in 16 bits, and that use (most of the time) the sampling rate of 44100 Hz. Once read into python, the samples will be converted to floating point values with a range from -1 to 1, resulting in a one-dimensional array of floating point values."
      ]
    },
    {
      "cell_type": "markdown",
      "metadata": {
        "id": "fDPPkGCD4pYQ"
      },
      "source": [
        "## Part 1 - Reading in an audio file\n",
        "Write a function that reads an audio file and returns 10 consecutive samples of the file starting from\n",
        "the 50001th sample. This means that the output should exactly contain the 50001th sample to the 50010th\n",
        "sample (10 samples).\n",
        "\n",
        "The input to the function is the file name (including the path), plus the location of first sample and the number of consecutive samples to take, and the output should be a numpy array.\n",
        "\n",
        "If you use the `wavread()` function from the `utilFunctions` module available in `sms-tools`, the input samples will be automatically converted to a numpy array of floating point numbers with a range from -1 to 1, which is what we want.\n",
        "\n",
        "Remember that in python, the index of the first sample of an array is 0 and not 1."
      ]
    },
    {
      "cell_type": "code",
      "execution_count": 45,
      "metadata": {
        "id": "O9cMjOdAFn-u",
        "colab": {
          "base_uri": "https://localhost:8080/"
        },
        "outputId": "f64646f8-d48a-409e-df03-e09ac6a9d31e"
      },
      "outputs": [
        {
          "output_type": "stream",
          "name": "stdout",
          "text": [
            "Requirement already satisfied: sms-tools in /usr/local/lib/python3.11/dist-packages (1.0.1)\n",
            "Requirement already satisfied: matplotlib in /usr/local/lib/python3.11/dist-packages (from sms-tools) (3.10.0)\n",
            "Requirement already satisfied: numpy<2.0.0 in /usr/local/lib/python3.11/dist-packages (from sms-tools) (1.26.4)\n",
            "Requirement already satisfied: scipy in /usr/local/lib/python3.11/dist-packages (from sms-tools) (1.16.0)\n",
            "Requirement already satisfied: contourpy>=1.0.1 in /usr/local/lib/python3.11/dist-packages (from matplotlib->sms-tools) (1.3.2)\n",
            "Requirement already satisfied: cycler>=0.10 in /usr/local/lib/python3.11/dist-packages (from matplotlib->sms-tools) (0.12.1)\n",
            "Requirement already satisfied: fonttools>=4.22.0 in /usr/local/lib/python3.11/dist-packages (from matplotlib->sms-tools) (4.59.0)\n",
            "Requirement already satisfied: kiwisolver>=1.3.1 in /usr/local/lib/python3.11/dist-packages (from matplotlib->sms-tools) (1.4.8)\n",
            "Requirement already satisfied: packaging>=20.0 in /usr/local/lib/python3.11/dist-packages (from matplotlib->sms-tools) (25.0)\n",
            "Requirement already satisfied: pillow>=8 in /usr/local/lib/python3.11/dist-packages (from matplotlib->sms-tools) (11.3.0)\n",
            "Requirement already satisfied: pyparsing>=2.3.1 in /usr/local/lib/python3.11/dist-packages (from matplotlib->sms-tools) (3.2.3)\n",
            "Requirement already satisfied: python-dateutil>=2.7 in /usr/local/lib/python3.11/dist-packages (from matplotlib->sms-tools) (2.9.0.post0)\n",
            "Requirement already satisfied: six>=1.5 in /usr/local/lib/python3.11/dist-packages (from python-dateutil>=2.7->matplotlib->sms-tools) (1.17.0)\n",
            "fatal: destination path 'sms-tools-materials' already exists and is not an empty directory.\n"
          ]
        }
      ],
      "source": [
        "#if want to run this notebook in google colab you should uncomment the following commands\n",
        "!pip install sms-tools\n",
        "!git clone https://github.com/MTG/sms-tools-materials.git"
      ]
    },
    {
      "cell_type": "code",
      "execution_count": 46,
      "metadata": {
        "id": "dxJvTOBl4pYQ"
      },
      "outputs": [],
      "source": [
        "import numpy as np\n",
        "from smstools.models.utilFunctions import wavread"
      ]
    },
    {
      "cell_type": "code",
      "execution_count": 53,
      "metadata": {
        "id": "Zb8UWF3q4pYR"
      },
      "outputs": [],
      "source": [
        "# E1 - 1.1: Complete the read_audio_samples() function\n",
        "\n",
        "def readAudio(input_file, first_sample=50001, num_samples=10):\n",
        "    \"\"\"Read num_samples samples from an audio file starting at sample first_sample\n",
        "\n",
        "    Args:\n",
        "        input_file (str): path of a wav file\n",
        "\n",
        "    Returns:\n",
        "        np.array: numpy array containing the selected samples\n",
        "\n",
        "    \"\"\"\n",
        "\n",
        "    ### Your code here\n",
        "    fs , samples = wavread(input_file)\n",
        "    return samples[first_sample-1:first_sample+num_samples-1]\n"
      ]
    },
    {
      "cell_type": "markdown",
      "metadata": {
        "id": "N7QWDndC4pYR"
      },
      "source": [
        "You can use as input the sound files from the sounds directory, thus using a relative path to it. If you run the `readAudio()` function using the `piano.wav` sound file as input, with the default arguments, it should return the following samples:\n",
        "```\n",
        "array([-0.06213569, -0.04541154, -0.02734458, -0.0093997, 0.00769066, 0.02319407, 0.03503525, 0.04309214, 0.04626606,  0.0441908], dtype=float32)\n",
        "```"
      ]
    },
    {
      "cell_type": "code",
      "execution_count": 54,
      "metadata": {
        "id": "jiUBIIW44pYR",
        "colab": {
          "base_uri": "https://localhost:8080/"
        },
        "outputId": "d3cd9e97-22c9-471d-9e30-e6dcfa8f4b5e"
      },
      "outputs": [
        {
          "output_type": "execute_result",
          "data": {
            "text/plain": [
              "array([-0.06213379, -0.04541016, -0.02734375, -0.00939941,  0.00769043,\n",
              "        0.02319336,  0.03503418,  0.04309082,  0.04626465,  0.04418945],\n",
              "      dtype=float32)"
            ]
          },
          "metadata": {},
          "execution_count": 54
        }
      ],
      "source": [
        "# E1 - 1.2: Call read_audio_samples() with the proposed input sound and default arguments\n",
        "\n",
        "### Your code here\n",
        "readAudio('sms-tools-materials/sounds/piano.wav')\n"
      ]
    },
    {
      "cell_type": "markdown",
      "metadata": {
        "id": "096eq62C4pYS"
      },
      "source": [
        "## Part 2 - Basic operations with audio"
      ]
    },
    {
      "cell_type": "markdown",
      "metadata": {
        "id": "QgaNFC4q4pYS"
      },
      "source": [
        "The function `minMaxAudio()` should read an audio file and return the minimum and  maximum values of the audio samples in that file. The input to the function is the wav file name (including the path) and the output should be two floating point values returned as a tuple."
      ]
    },
    {
      "cell_type": "code",
      "execution_count": 55,
      "metadata": {
        "id": "5z12fr1s4pYS"
      },
      "outputs": [],
      "source": [
        "# E1 - 2.1: Complete function minMaxAudio()\n",
        "\n",
        "def min_max_audio(input_file):\n",
        "    \"\"\"Compute the minimum and maximum values of the audio samples in the input file\n",
        "\n",
        "    Args:\n",
        "        inputFile(str): file name of the wav file (including path)\n",
        "\n",
        "    Returns:\n",
        "        tuple: minimum and maximum value of the audio samples, like: (min_val, max_val)\n",
        "    \"\"\"\n",
        "    ### Your code here\n",
        "    fs , samples = wavread(input_file)\n",
        "    return min(samples), max(samples)\n"
      ]
    },
    {
      "cell_type": "markdown",
      "metadata": {
        "id": "Y5UakT1I4pYS"
      },
      "source": [
        "If you run `min_max_audio()` using `oboe-A4.wav` as input, it should return the following output:\n",
        "\n",
        "```\n",
        "(-0.83486432, 0.56501967)\n",
        "```"
      ]
    },
    {
      "cell_type": "code",
      "execution_count": 59,
      "metadata": {
        "id": "laoNx1GS4pYT",
        "colab": {
          "base_uri": "https://localhost:8080/",
          "height": 527
        },
        "outputId": "4a56da35-758b-4fec-9d75-f5559be7868e"
      },
      "outputs": [
        {
          "output_type": "display_data",
          "data": {
            "text/plain": [
              "<Figure size 640x480 with 1 Axes>"
            ],
            "image/png": "[encoded data removed]"
          },
          "metadata": {}
        },
        {
          "output_type": "execute_result",
          "data": {
            "text/plain": [
              "array([-0.38339233, -0.18930054,  0.03771973,  0.2388916 ,  0.35720825,\n",
              "        0.3632202 ,  0.2638855 ,  0.09207153, -0.09155273, -0.23413086],\n",
              "      dtype=float32)"
            ]
          },
          "metadata": {},
          "execution_count": 59
        }
      ],
      "source": [
        "# E1 - 2.2: Plot input sound with x-axis in seconds, and call min_max_audio() with the proposed sound file\n",
        "\n",
        "### Your code here\n",
        "from matplotlib import pyplot as plt\n",
        "\n",
        "fs, samples = wavread('sms-tools-materials/sounds/oboe-A4.wav')\n",
        "duration = len(samples)/fs\n",
        "time = np.linspace(0, duration, len(samples))\n",
        "plt.plot(time, samples)\n",
        "plt.xlabel('Time (s)')\n",
        "plt.ylabel('Amplitude')\n",
        "plt.title('Oboe A4')\n",
        "plt.show()\n",
        "\n",
        "\n"
      ]
    },
    {
      "cell_type": "markdown",
      "metadata": {
        "id": "7oOVu1v64pYT"
      },
      "source": [
        "## Part 3 - Python array indexing"
      ]
    },
    {
      "cell_type": "markdown",
      "metadata": {
        "id": "S-tqGm1W4pYT"
      },
      "source": [
        "For the function `hop_samples()`, given a numpy array `x`, it should return every Mth element of `x`, starting from the first element. The input arguments to this function are a numpy array `x` and a positive integer `M` such that `M` < number of elements in `x`. The output of this function should be a numpy array."
      ]
    },
    {
      "cell_type": "code",
      "execution_count": 60,
      "metadata": {
        "id": "lE5DNskc4pYT"
      },
      "outputs": [],
      "source": [
        "# E1 - 3.1: Complete the function hop_samples()\n",
        "\n",
        "def hop_samples(x, M):\n",
        "    \"\"\"Return every Mth element of the input array\n",
        "\n",
        "    Args:\n",
        "        x(np.array): input numpy array\n",
        "        M(int): hop size (positive integer)\n",
        "\n",
        "    Returns:\n",
        "        np.array: array containing every Mth element in x, starting from the first element in x\n",
        "    \"\"\"\n",
        "    ### Your code here\n",
        "    return x[::M]\n"
      ]
    },
    {
      "cell_type": "markdown",
      "metadata": {
        "id": "5MyvpNXw4pYT"
      },
      "source": [
        "If you run the function`hop_samples()` with `x = np.arange(10)` and `M = 2` as inputs, it should return:\n",
        "\n",
        "```\n",
        "array([0, 2, 4, 6, 8])\n",
        "```"
      ]
    },
    {
      "cell_type": "code",
      "execution_count": 66,
      "metadata": {
        "id": "7JQj1aW94pYT",
        "colab": {
          "base_uri": "https://localhost:8080/",
          "height": 466
        },
        "outputId": "0c9a22b0-bf61-471c-a393-b74ad50a79cd"
      },
      "outputs": [
        {
          "output_type": "stream",
          "name": "stdout",
          "text": [
            "[0 2 4 6 8]\n"
          ]
        },
        {
          "output_type": "execute_result",
          "data": {
            "text/plain": [
              "[<matplotlib.lines.Line2D at 0x79e8713b9dd0>]"
            ]
          },
          "metadata": {},
          "execution_count": 66
        },
        {
          "output_type": "display_data",
          "data": {
            "text/plain": [
              "<Figure size 640x480 with 1 Axes>"
            ],
            "image/png": "[encoded data removed]"
          },
          "metadata": {}
        }
      ],
      "source": [
        "# E1 - 3.2: Plot input array, call hop_samples() with proposed input, and plot output array\n",
        "\n",
        "### Your code here\n",
        "x = np.arange(10)\n",
        "plt.plot(x)\n",
        "M = 2\n",
        "y = hop_samples(x, M)\n",
        "print(y)\n",
        "plt.plot(y)\n"
      ]
    },
    {
      "cell_type": "markdown",
      "metadata": {
        "id": "IHVcz8lZ4pYT"
      },
      "source": [
        "## Part 4 - Downsampling\n"
      ]
    },
    {
      "cell_type": "markdown",
      "metadata": {
        "id": "RIoLUl4F4pYT"
      },
      "source": [
        "One of the required processes to represent an analog signal inside a computer is sampling. The sampling rate is the number of samples obtained in one second when sampling a continuous analog signal to a discrete digital signal. As mentioned we will be working with wav audio files that have a sampling rate of 44100 Hz, which is a typical value. Here you will learn a simple way of changing the original sampling rate of a sound to a lower sampling rate, and will learn the implications it has in the audio quality.\n",
        "\n",
        "The function `down_sample_audio()` has as input an audio file with a given sampling rate, it should apply downsampling by a factor of `M` and return a down-sampled version of the input samples. The sampling rates and downsampling factors to use have to be integer values.\n",
        "\n",
        "From the output samples if you need to create a wav audio file from an array, you can use the `wavwrite()` function from the `utilFunctions.py` module. However, in this exercise there is no need to write an audio file, we will be able to hear the sound without creating a file, just playing the array of samples."
      ]
    },
    {
      "cell_type": "code",
      "execution_count": null,
      "metadata": {
        "id": "68Jg0y1n4pYT"
      },
      "outputs": [],
      "source": [
        "# E1 - 4.1: Complete function down_sample_audio()\n",
        "\n",
        "def down_sample_audio(input_file, M):\n",
        "    \"\"\"Downsample by a factor of M the input signal\n",
        "\n",
        "    Args:\n",
        "        input_file(str): file name of the wav file (including path)\n",
        "        M(int): downsampling factor (positive integer)\n",
        "\n",
        "    Returns:\n",
        "        tuple: input samples (np.array), original sampling rate (int), down-sampled signal (np.array),\n",
        "               and new sampling rate (int), like: (x, fs, y, fs_new)\n",
        "    \"\"\"\n",
        "    ### Your code here\n",
        "\n"
      ]
    },
    {
      "cell_type": "markdown",
      "metadata": {
        "id": "sKd57awp4pYU"
      },
      "source": [
        "Test cases for `down_sample_audio()`:\n",
        "\n",
        "_Test Case 1:_ Use the file from the sounds directory `vibraphone-C6.wav` and a downsampling factor of `M=14`.\n",
        "\n",
        "_Test Case 2:_ Use the  file from the sounds directory `sawtooth-440.wav` and a downsampling factor of `M=14`.\n",
        "\n",
        "To play the output samples, import the `Ipython.display` package and use `ipd.display(ipd.Audio(data=y, rate=fs_new))`. To visualize the output samples import the `matplotlib.pyplot` package and use `plt.plot(x)`.\n",
        "\n",
        "You can find some related information in https://en.wikipedia.org/wiki/Downsampling_(signal_processing)"
      ]
    },
    {
      "cell_type": "code",
      "execution_count": null,
      "metadata": {
        "id": "jUJ0Swo84pYU"
      },
      "outputs": [],
      "source": [
        "import IPython.display as ipd\n",
        "import matplotlib.pyplot as plt"
      ]
    },
    {
      "cell_type": "code",
      "execution_count": null,
      "metadata": {
        "id": "EO4ppXed4pYU"
      },
      "outputs": [],
      "source": [
        "# E1 - 4.2: Plot and play input sounds, call the function down_sample_audio() for the two test cases,\n",
        "# and plot and play the output sounds.\n",
        "\n",
        "### Your code here\n"
      ]
    },
    {
      "cell_type": "markdown",
      "metadata": {
        "id": "YKEI-GZT6odp"
      },
      "source": [
        "**Questions: (answer here)**\n",
        "\n",
        " E1 - 4.3: Explain the results of part 4. What happened to the output signals compared to the input ones? Is there a difference between the 2 cases? Why? How could we avoid damaging the signal when downsampling it?"
      ]
    }
  ],
  "metadata": {
    "colab": {
      "provenance": []
    },
    "kernelspec": {
      "display_name": ".venv",
      "language": "python",
      "name": "python3"
    },
    "language_info": {
      "codemirror_mode": {
        "name": "ipython",
        "version": 3
      },
      "file_extension": ".py",
      "mimetype": "text/x-python",
      "name": "python",
      "nbconvert_exporter": "python",
      "pygments_lexer": "ipython3",
      "version": "3.12.1"
    }
  },
  "nbformat": 4,
  "nbformat_minor": 0
}